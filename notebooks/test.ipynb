{
 "cells": [
  {
   "cell_type": "markdown",
   "metadata": {},
   "source": [
    "# # Testing Thresholding"
   ]
  },
  {
   "cell_type": "code",
   "execution_count": 1,
   "metadata": {},
   "outputs": [],
   "source": [
    "import numpy as np\n",
    "import cv2\n",
    "from tkinter import Tk, filedialog\n",
    "\n",
    "# let user choose file, returns image\n",
    "def open_image():\n",
    "    root = Tk()\n",
    "    root.fileName = filedialog.askopenfilename(\n",
    "        initialdir=\"./samples\",\n",
    "        title=\"Select an Image\",\n",
    "        filetypes=((\".jpg\", \"*.jpg\"), (\".png\", \"*.png\"), (\"all files\", \"*.*\")),\n",
    "    )\n",
    "    fname = root.fileName\n",
    "    image = cv2.imread(fname)\n",
    "    return image\n",
    "\n",
    "\n",
    "def thresholding(image, thresh):\n",
    "    gray = cv2.cvtColor(image, cv2.COLOR_BGR2GRAY)\n",
    "    blurred = cv2.GaussianBlur(gray, (9, 9), 0)\n",
    "    retval, th = cv2.threshold(blurred, 0, 255, cv2.THRESH_BINARY + cv2.THRESH_OTSU)\n",
    "    return th"
   ]
  },
  {
   "cell_type": "code",
   "execution_count": 2,
   "metadata": {},
   "outputs": [
    {
     "ename": "IndentationError",
     "evalue": "unexpected indent (<ipython-input-2-c7b9830a8f36>, line 10)",
     "output_type": "error",
     "traceback": [
      "\u001b[1;36m  File \u001b[1;32m\"<ipython-input-2-c7b9830a8f36>\"\u001b[1;36m, line \u001b[1;32m10\u001b[0m\n\u001b[1;33m    while True:\u001b[0m\n\u001b[1;37m    ^\u001b[0m\n\u001b[1;31mIndentationError\u001b[0m\u001b[1;31m:\u001b[0m unexpected indent\n"
     ]
    }
   ],
   "source": [
    "thresh_val = 40\n",
    "\n",
    "\n",
    "def change_thresh(new_thresh):\n",
    "    global thresh_val\n",
    "    thresh_val = new_thresh\n",
    "\n",
    "open_image()\n",
    "cv2.namedWindow(\"Thresholding\", cv2.WINDOW_AUTOSIZE)\n",
    "cv2.createTrackbar(\"Thresh value\", \"Thresholding\", thresh_val, 200, change_thresh)\n",
    "while True:\n",
    "    thresholded = thresholding(linearized_image, sigma)\n",
    "    cv2.imshow(\"Thresholding\", thresholded)\n",
    "    key = cv2.waitKey(1)\n",
    "    if key == 27:\n",
    "        break"
   ]
  },
  {
   "cell_type": "code",
   "execution_count": null,
   "metadata": {},
   "outputs": [],
   "source": []
  }
 ],
 "metadata": {
  "kernelspec": {
   "display_name": "Python 3",
   "language": "python",
   "name": "python3"
  },
  "language_info": {
   "codemirror_mode": {
    "name": "ipython",
    "version": 3
   },
   "file_extension": ".py",
   "mimetype": "text/x-python",
   "name": "python",
   "nbconvert_exporter": "python",
   "pygments_lexer": "ipython3",
   "version": "3.8.3"
  }
 },
 "nbformat": 4,
 "nbformat_minor": 4
}
